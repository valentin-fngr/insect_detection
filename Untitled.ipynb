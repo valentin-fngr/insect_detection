{
 "cells": [
  {
   "cell_type": "code",
   "execution_count": 1,
   "id": "714e7cf1",
   "metadata": {},
   "outputs": [],
   "source": [
    "import numpy as np \n",
    "import tensorflow as tf "
   ]
  },
  {
   "cell_type": "code",
   "execution_count": 3,
   "id": "e7de7a32",
   "metadata": {},
   "outputs": [
    {
     "name": "stdout",
     "output_type": "stream",
     "text": [
      "tf.Tensor(\n",
      "[[[0 1]\n",
      "  [0 1]]], shape=(1, 2, 2), dtype=int64)\n"
     ]
    }
   ],
   "source": [
    "a = np.random.randn(1,2,2,2)\n",
    "arg = tf.argmax(a, axis=3)\n",
    "print(arg)"
   ]
  },
  {
   "cell_type": "code",
   "execution_count": 14,
   "id": "a70bbe34",
   "metadata": {},
   "outputs": [
    {
     "data": {
      "text/plain": [
       "(1, 2, 2)"
      ]
     },
     "execution_count": 14,
     "metadata": {},
     "output_type": "execute_result"
    }
   ],
   "source": [
    "a = np.random.randn(1, 2, 2, 10)\n",
    "np.argmax(a, axis=-1).shape"
   ]
  },
  {
   "cell_type": "code",
   "execution_count": null,
   "id": "e7dcfc7e",
   "metadata": {},
   "outputs": [],
   "source": []
  }
 ],
 "metadata": {
  "kernelspec": {
   "display_name": "Python 3",
   "language": "python",
   "name": "python3"
  },
  "language_info": {
   "codemirror_mode": {
    "name": "ipython",
    "version": 3
   },
   "file_extension": ".py",
   "mimetype": "text/x-python",
   "name": "python",
   "nbconvert_exporter": "python",
   "pygments_lexer": "ipython3",
   "version": "3.8.8"
  }
 },
 "nbformat": 4,
 "nbformat_minor": 5
}
